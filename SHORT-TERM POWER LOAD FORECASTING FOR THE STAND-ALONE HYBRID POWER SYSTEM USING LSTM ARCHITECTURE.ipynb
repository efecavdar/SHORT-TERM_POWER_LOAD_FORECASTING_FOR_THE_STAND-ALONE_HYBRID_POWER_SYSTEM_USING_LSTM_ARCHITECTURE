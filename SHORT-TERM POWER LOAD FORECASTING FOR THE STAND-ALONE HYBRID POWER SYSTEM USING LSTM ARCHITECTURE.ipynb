{
 "cells": [
  {
   "cell_type": "code",
   "execution_count": 1,
   "id": "85cc4fce-aa9d-466f-9db4-082b06b0ae4b",
   "metadata": {},
   "outputs": [
    {
     "name": "stderr",
     "output_type": "stream",
     "text": [
      "C:\\Users\\User\\anaconda3\\lib\\site-packages\\numpy\\_distributor_init.py:30: UserWarning: loaded more than 1 DLL from .libs:\n",
      "C:\\Users\\User\\anaconda3\\lib\\site-packages\\numpy\\.libs\\libopenblas.PYQHXLVVQ7VESDPUVUADXEVJOBGHJPAY.gfortran-win_amd64.dll\n",
      "C:\\Users\\User\\anaconda3\\lib\\site-packages\\numpy\\.libs\\libopenblas.WCDJNK7YVMPZQ2ME2ZZHJJRJ3JIKNDB7.gfortran-win_amd64.dll\n",
      "  warnings.warn(\"loaded more than 1 DLL from .libs:\\n%s\" %\n"
     ]
    }
   ],
   "source": [
    "import tensorflow as tf\n",
    "import os\n",
    "import pandas as pd\n",
    "import numpy as np \n",
    "import matplotlib as mpl\n",
    "import matplotlib.pyplot as plt\n",
    "from sklearn.preprocessing import MinMaxScaler\n",
    "\n",
    "from tensorflow.keras.models import Sequential\n",
    "from tensorflow.keras.layers import *\n",
    "from tensorflow.keras.callbacks import ModelCheckpoint\n",
    "from tensorflow.keras.losses import MeanSquaredError\n",
    "from tensorflow.keras.metrics import RootMeanSquaredError\n",
    "from tensorflow.keras.optimizers import Adam\n",
    "\n",
    "import warnings\n",
    "warnings.filterwarnings('ignore')"
   ]
  },
  {
   "cell_type": "code",
   "execution_count": 2,
   "id": "fef02ed0-5347-40b4-bc97-57f511cc3d5d",
   "metadata": {},
   "outputs": [
    {
     "data": {
      "text/html": [
       "<div>\n",
       "<style scoped>\n",
       "    .dataframe tbody tr th:only-of-type {\n",
       "        vertical-align: middle;\n",
       "    }\n",
       "\n",
       "    .dataframe tbody tr th {\n",
       "        vertical-align: top;\n",
       "    }\n",
       "\n",
       "    .dataframe thead th {\n",
       "        text-align: right;\n",
       "    }\n",
       "</style>\n",
       "<table border=\"1\" class=\"dataframe\">\n",
       "  <thead>\n",
       "    <tr style=\"text-align: right;\">\n",
       "      <th></th>\n",
       "      <th>time</th>\n",
       "      <th>pv_current1</th>\n",
       "      <th>pv_current2</th>\n",
       "      <th>pv_current3</th>\n",
       "      <th>pv_current4</th>\n",
       "      <th>pv_total_current</th>\n",
       "      <th>wind_turbine_current</th>\n",
       "      <th>inverter_current</th>\n",
       "      <th>ac_output_current</th>\n",
       "      <th>pv_input_voltage</th>\n",
       "      <th>dc_bus_voltage</th>\n",
       "      <th>ac_output_voltage</th>\n",
       "      <th>h2_pressure</th>\n",
       "      <th>pv1_temperature</th>\n",
       "      <th>pv2_temperature</th>\n",
       "      <th>pv3_temperature</th>\n",
       "      <th>battery_bank_temperature</th>\n",
       "    </tr>\n",
       "  </thead>\n",
       "  <tbody>\n",
       "    <tr>\n",
       "      <th>0</th>\n",
       "      <td>12:00:00 AM</td>\n",
       "      <td>1.767853</td>\n",
       "      <td>1.863484</td>\n",
       "      <td>1.741650</td>\n",
       "      <td>1.775363</td>\n",
       "      <td>5.415713</td>\n",
       "      <td>26.612404</td>\n",
       "      <td>29.556963</td>\n",
       "      <td>3.697929</td>\n",
       "      <td>20.990072</td>\n",
       "      <td>5.312572</td>\n",
       "      <td>235.819992</td>\n",
       "      <td>72.357712</td>\n",
       "      <td>25.035004</td>\n",
       "      <td>24.754852</td>\n",
       "      <td>25.595306</td>\n",
       "      <td>23.105042</td>\n",
       "    </tr>\n",
       "    <tr>\n",
       "      <th>1</th>\n",
       "      <td>12:00:01 AM</td>\n",
       "      <td>1.768020</td>\n",
       "      <td>1.863317</td>\n",
       "      <td>1.741650</td>\n",
       "      <td>1.775363</td>\n",
       "      <td>5.425227</td>\n",
       "      <td>26.624926</td>\n",
       "      <td>29.604530</td>\n",
       "      <td>3.708610</td>\n",
       "      <td>21.175329</td>\n",
       "      <td>5.313572</td>\n",
       "      <td>235.810974</td>\n",
       "      <td>72.357712</td>\n",
       "      <td>25.003876</td>\n",
       "      <td>24.817108</td>\n",
       "      <td>25.564178</td>\n",
       "      <td>23.167297</td>\n",
       "    </tr>\n",
       "    <tr>\n",
       "      <th>2</th>\n",
       "      <td>12:00:02 AM</td>\n",
       "      <td>1.768354</td>\n",
       "      <td>1.863651</td>\n",
       "      <td>1.742318</td>\n",
       "      <td>1.775196</td>\n",
       "      <td>5.436742</td>\n",
       "      <td>26.617416</td>\n",
       "      <td>29.634575</td>\n",
       "      <td>3.708610</td>\n",
       "      <td>21.326534</td>\n",
       "      <td>5.313572</td>\n",
       "      <td>235.810974</td>\n",
       "      <td>72.352379</td>\n",
       "      <td>25.003876</td>\n",
       "      <td>24.754852</td>\n",
       "      <td>25.501923</td>\n",
       "      <td>23.167297</td>\n",
       "    </tr>\n",
       "    <tr>\n",
       "      <th>3</th>\n",
       "      <td>12:00:03 AM</td>\n",
       "      <td>1.768354</td>\n",
       "      <td>1.863317</td>\n",
       "      <td>1.741984</td>\n",
       "      <td>1.775363</td>\n",
       "      <td>5.419719</td>\n",
       "      <td>26.612404</td>\n",
       "      <td>29.622053</td>\n",
       "      <td>3.708610</td>\n",
       "      <td>21.587395</td>\n",
       "      <td>5.312572</td>\n",
       "      <td>235.797455</td>\n",
       "      <td>72.341690</td>\n",
       "      <td>24.941620</td>\n",
       "      <td>24.723724</td>\n",
       "      <td>25.408539</td>\n",
       "      <td>23.105042</td>\n",
       "    </tr>\n",
       "    <tr>\n",
       "      <th>4</th>\n",
       "      <td>12:00:04 AM</td>\n",
       "      <td>1.768354</td>\n",
       "      <td>1.863317</td>\n",
       "      <td>1.741817</td>\n",
       "      <td>1.775363</td>\n",
       "      <td>5.412710</td>\n",
       "      <td>26.624926</td>\n",
       "      <td>29.629562</td>\n",
       "      <td>3.709278</td>\n",
       "      <td>21.829226</td>\n",
       "      <td>5.312572</td>\n",
       "      <td>235.806473</td>\n",
       "      <td>72.347038</td>\n",
       "      <td>25.003876</td>\n",
       "      <td>24.692596</td>\n",
       "      <td>25.377411</td>\n",
       "      <td>23.167297</td>\n",
       "    </tr>\n",
       "  </tbody>\n",
       "</table>\n",
       "</div>"
      ],
      "text/plain": [
       "          time  pv_current1  pv_current2  pv_current3  pv_current4  \\\n",
       "0  12:00:00 AM     1.767853     1.863484     1.741650     1.775363   \n",
       "1  12:00:01 AM     1.768020     1.863317     1.741650     1.775363   \n",
       "2  12:00:02 AM     1.768354     1.863651     1.742318     1.775196   \n",
       "3  12:00:03 AM     1.768354     1.863317     1.741984     1.775363   \n",
       "4  12:00:04 AM     1.768354     1.863317     1.741817     1.775363   \n",
       "\n",
       "   pv_total_current  wind_turbine_current  inverter_current  \\\n",
       "0          5.415713             26.612404         29.556963   \n",
       "1          5.425227             26.624926         29.604530   \n",
       "2          5.436742             26.617416         29.634575   \n",
       "3          5.419719             26.612404         29.622053   \n",
       "4          5.412710             26.624926         29.629562   \n",
       "\n",
       "   ac_output_current  pv_input_voltage  dc_bus_voltage  ac_output_voltage  \\\n",
       "0           3.697929         20.990072        5.312572         235.819992   \n",
       "1           3.708610         21.175329        5.313572         235.810974   \n",
       "2           3.708610         21.326534        5.313572         235.810974   \n",
       "3           3.708610         21.587395        5.312572         235.797455   \n",
       "4           3.709278         21.829226        5.312572         235.806473   \n",
       "\n",
       "   h2_pressure   pv1_temperature  pv2_temperature  pv3_temperature  \\\n",
       "0     72.357712        25.035004        24.754852        25.595306   \n",
       "1     72.357712        25.003876        24.817108        25.564178   \n",
       "2     72.352379        25.003876        24.754852        25.501923   \n",
       "3     72.341690        24.941620        24.723724        25.408539   \n",
       "4     72.347038        25.003876        24.692596        25.377411   \n",
       "\n",
       "   battery_bank_temperature  \n",
       "0                 23.105042  \n",
       "1                 23.167297  \n",
       "2                 23.167297  \n",
       "3                 23.105042  \n",
       "4                 23.167297  "
      ]
     },
     "execution_count": 2,
     "metadata": {},
     "output_type": "execute_result"
    }
   ],
   "source": [
    "df = pd.read_csv('hybrid.csv')\n",
    "df.head()"
   ]
  },
  {
   "cell_type": "code",
   "execution_count": 3,
   "id": "915a9091-0660-4360-b889-3bd3a6888a09",
   "metadata": {
    "tags": []
   },
   "outputs": [
    {
     "data": {
      "text/plain": [
       "DatetimeIndex(['2022-01-25 00:00:00', '2022-01-25 00:00:01',\n",
       "               '2022-01-25 00:00:02', '2022-01-25 00:00:03',\n",
       "               '2022-01-25 00:00:04', '2022-01-25 00:00:05',\n",
       "               '2022-01-25 00:00:06', '2022-01-25 00:00:07',\n",
       "               '2022-01-25 00:00:08', '2022-01-25 00:00:09',\n",
       "               ...\n",
       "               '2022-01-25 04:46:24', '2022-01-25 04:46:25',\n",
       "               '2022-01-25 04:46:26', '2022-01-25 04:46:27',\n",
       "               '2022-01-25 04:46:28', '2022-01-25 04:46:29',\n",
       "               '2022-01-25 04:46:30', '2022-01-25 04:46:31',\n",
       "               '2022-01-25 04:46:32', '2022-01-25 04:46:33'],\n",
       "              dtype='datetime64[ns]', name='time', length=17194, freq=None)"
      ]
     },
     "execution_count": 3,
     "metadata": {},
     "output_type": "execute_result"
    }
   ],
   "source": [
    "df.index = pd.to_datetime(df['time'])\n",
    "df.index"
   ]
  },
  {
   "cell_type": "code",
   "execution_count": 4,
   "id": "35e7a46d-5795-4bca-a59d-d0c21850b8a3",
   "metadata": {},
   "outputs": [
    {
     "data": {
      "text/plain": [
       "<AxesSubplot:xlabel='time'>"
      ]
     },
     "execution_count": 4,
     "metadata": {},
     "output_type": "execute_result"
    },
    {
     "data": {
      "image/png": "[encoded data removed]",
      "text/plain": [
       "<Figure size 432x288 with 1 Axes>"
      ]
     },
     "metadata": {
      "needs_background": "light"
     },
     "output_type": "display_data"
    }
   ],
   "source": [
    "ac_out = df['ac_output_current']\n",
    "ac_out.plot()"
   ]
  },
  {
   "cell_type": "code",
   "execution_count": 5,
   "id": "ce83a4a7-e98b-4a35-b631-542235f0454c",
   "metadata": {},
   "outputs": [],
   "source": [
    "ac_out_df = pd.DataFrame({'AC Output Current (A)':ac_out})"
   ]
  },
  {
   "cell_type": "code",
   "execution_count": 6,
   "id": "dd239e02-fe43-436e-86a6-2c7bce6f071b",
   "metadata": {},
   "outputs": [
    {
     "data": {
      "text/html": [
       "<div>\n",
       "<style scoped>\n",
       "    .dataframe tbody tr th:only-of-type {\n",
       "        vertical-align: middle;\n",
       "    }\n",
       "\n",
       "    .dataframe tbody tr th {\n",
       "        vertical-align: top;\n",
       "    }\n",
       "\n",
       "    .dataframe thead th {\n",
       "        text-align: right;\n",
       "    }\n",
       "</style>\n",
       "<table border=\"1\" class=\"dataframe\">\n",
       "  <thead>\n",
       "    <tr style=\"text-align: right;\">\n",
       "      <th></th>\n",
       "      <th>AC Output Current (A)</th>\n",
       "      <th>AC Output Voltage (V)</th>\n",
       "    </tr>\n",
       "    <tr>\n",
       "      <th>time</th>\n",
       "      <th></th>\n",
       "      <th></th>\n",
       "    </tr>\n",
       "  </thead>\n",
       "  <tbody>\n",
       "    <tr>\n",
       "      <th>2022-01-25 00:00:00</th>\n",
       "      <td>3.697929</td>\n",
       "      <td>235.819992</td>\n",
       "    </tr>\n",
       "    <tr>\n",
       "      <th>2022-01-25 00:00:01</th>\n",
       "      <td>3.708610</td>\n",
       "      <td>235.810974</td>\n",
       "    </tr>\n",
       "    <tr>\n",
       "      <th>2022-01-25 00:00:02</th>\n",
       "      <td>3.708610</td>\n",
       "      <td>235.810974</td>\n",
       "    </tr>\n",
       "    <tr>\n",
       "      <th>2022-01-25 00:00:03</th>\n",
       "      <td>3.708610</td>\n",
       "      <td>235.797455</td>\n",
       "    </tr>\n",
       "    <tr>\n",
       "      <th>2022-01-25 00:00:04</th>\n",
       "      <td>3.709278</td>\n",
       "      <td>235.806473</td>\n",
       "    </tr>\n",
       "  </tbody>\n",
       "</table>\n",
       "</div>"
      ],
      "text/plain": [
       "                     AC Output Current (A)  AC Output Voltage (V)\n",
       "time                                                             \n",
       "2022-01-25 00:00:00               3.697929             235.819992\n",
       "2022-01-25 00:00:01               3.708610             235.810974\n",
       "2022-01-25 00:00:02               3.708610             235.810974\n",
       "2022-01-25 00:00:03               3.708610             235.797455\n",
       "2022-01-25 00:00:04               3.709278             235.806473"
      ]
     },
     "execution_count": 6,
     "metadata": {},
     "output_type": "execute_result"
    }
   ],
   "source": [
    "ac_out_df['AC Output Voltage (V)'] = df['ac_output_voltage']\n",
    "ac_out_df.head()"
   ]
  },
  {
   "cell_type": "code",
   "execution_count": 7,
   "id": "43c739a1-80f8-49bf-bf3a-38cb3cf3239a",
   "metadata": {},
   "outputs": [],
   "source": [
    "values = ac_out_df.values"
   ]
  },
  {
   "cell_type": "code",
   "execution_count": 8,
   "id": "58f75a6d-f3f2-4889-999f-1fd90f662005",
   "metadata": {},
   "outputs": [
    {
     "data": {
      "text/html": [
       "<div>\n",
       "<style scoped>\n",
       "    .dataframe tbody tr th:only-of-type {\n",
       "        vertical-align: middle;\n",
       "    }\n",
       "\n",
       "    .dataframe tbody tr th {\n",
       "        vertical-align: top;\n",
       "    }\n",
       "\n",
       "    .dataframe thead th {\n",
       "        text-align: right;\n",
       "    }\n",
       "</style>\n",
       "<table border=\"1\" class=\"dataframe\">\n",
       "  <thead>\n",
       "    <tr style=\"text-align: right;\">\n",
       "      <th></th>\n",
       "      <th>AC Output Current (A)</th>\n",
       "      <th>AC Output Voltage (V)</th>\n",
       "      <th>AC Output Power (W)</th>\n",
       "    </tr>\n",
       "    <tr>\n",
       "      <th>time</th>\n",
       "      <th></th>\n",
       "      <th></th>\n",
       "      <th></th>\n",
       "    </tr>\n",
       "  </thead>\n",
       "  <tbody>\n",
       "    <tr>\n",
       "      <th>2022-01-25 00:00:00</th>\n",
       "      <td>3.697929</td>\n",
       "      <td>235.819992</td>\n",
       "      <td>872.045587</td>\n",
       "    </tr>\n",
       "    <tr>\n",
       "      <th>2022-01-25 00:00:01</th>\n",
       "      <td>3.708610</td>\n",
       "      <td>235.810974</td>\n",
       "      <td>874.530936</td>\n",
       "    </tr>\n",
       "    <tr>\n",
       "      <th>2022-01-25 00:00:02</th>\n",
       "      <td>3.708610</td>\n",
       "      <td>235.810974</td>\n",
       "      <td>874.530936</td>\n",
       "    </tr>\n",
       "    <tr>\n",
       "      <th>2022-01-25 00:00:03</th>\n",
       "      <td>3.708610</td>\n",
       "      <td>235.797455</td>\n",
       "      <td>874.480800</td>\n",
       "    </tr>\n",
       "    <tr>\n",
       "      <th>2022-01-25 00:00:04</th>\n",
       "      <td>3.709278</td>\n",
       "      <td>235.806473</td>\n",
       "      <td>874.671763</td>\n",
       "    </tr>\n",
       "  </tbody>\n",
       "</table>\n",
       "</div>"
      ],
      "text/plain": [
       "                     AC Output Current (A)  AC Output Voltage (V)  \\\n",
       "time                                                                \n",
       "2022-01-25 00:00:00               3.697929             235.819992   \n",
       "2022-01-25 00:00:01               3.708610             235.810974   \n",
       "2022-01-25 00:00:02               3.708610             235.810974   \n",
       "2022-01-25 00:00:03               3.708610             235.797455   \n",
       "2022-01-25 00:00:04               3.709278             235.806473   \n",
       "\n",
       "                     AC Output Power (W)  \n",
       "time                                      \n",
       "2022-01-25 00:00:00           872.045587  \n",
       "2022-01-25 00:00:01           874.530936  \n",
       "2022-01-25 00:00:02           874.530936  \n",
       "2022-01-25 00:00:03           874.480800  \n",
       "2022-01-25 00:00:04           874.671763  "
      ]
     },
     "execution_count": 8,
     "metadata": {},
     "output_type": "execute_result"
    }
   ],
   "source": [
    "ac_out_df['AC Output Power (W)'] = (values[:,0]*values[:,1])\n",
    "ac_out_df.head()"
   ]
  },
  {
   "cell_type": "code",
   "execution_count": 10,
   "id": "c5fe51de-ff17-43dd-ae33-c6bfda6a34cd",
   "metadata": {},
   "outputs": [
    {
     "data": {
      "text/plain": [
       "array([<AxesSubplot:xlabel='time'>, <AxesSubplot:xlabel='time'>,\n",
       "       <AxesSubplot:xlabel='time'>], dtype=object)"
      ]
     },
     "execution_count": 10,
     "metadata": {},
     "output_type": "execute_result"
    },
    {
     "data": {
      "image/png": "[encoded data removed]",
      "text/plain": [
       "<Figure size 432x288 with 3 Axes>"
      ]
     },
     "metadata": {
      "needs_background": "light"
     },
     "output_type": "display_data"
    }
   ],
   "source": [
    "ac_out_df[['AC Output Current (A)', 'AC Output Voltage (V)', 'AC Output Power (W)']].plot(subplots=True)"
   ]
  },
  {
   "cell_type": "code",
   "execution_count": 12,
   "id": "54bce445-5aa8-4337-9462-6646496f23fe",
   "metadata": {},
   "outputs": [
    {
     "data": {
      "text/html": [
       "<div>\n",
       "<style scoped>\n",
       "    .dataframe tbody tr th:only-of-type {\n",
       "        vertical-align: middle;\n",
       "    }\n",
       "\n",
       "    .dataframe tbody tr th {\n",
       "        vertical-align: top;\n",
       "    }\n",
       "\n",
       "    .dataframe thead th {\n",
       "        text-align: right;\n",
       "    }\n",
       "</style>\n",
       "<table border=\"1\" class=\"dataframe\">\n",
       "  <thead>\n",
       "    <tr style=\"text-align: right;\">\n",
       "      <th></th>\n",
       "      <th>AC Output Currnt (A)</th>\n",
       "      <th>AC Output Voltage (V)</th>\n",
       "      <th>AC Output Power (W)</th>\n",
       "    </tr>\n",
       "  </thead>\n",
       "  <tbody>\n",
       "    <tr>\n",
       "      <th>0</th>\n",
       "      <td>0.008862</td>\n",
       "      <td>0.935183</td>\n",
       "      <td>0.014036</td>\n",
       "    </tr>\n",
       "    <tr>\n",
       "      <th>1</th>\n",
       "      <td>0.011186</td>\n",
       "      <td>0.934288</td>\n",
       "      <td>0.016318</td>\n",
       "    </tr>\n",
       "    <tr>\n",
       "      <th>2</th>\n",
       "      <td>0.011186</td>\n",
       "      <td>0.934288</td>\n",
       "      <td>0.016318</td>\n",
       "    </tr>\n",
       "    <tr>\n",
       "      <th>3</th>\n",
       "      <td>0.011186</td>\n",
       "      <td>0.932947</td>\n",
       "      <td>0.016272</td>\n",
       "    </tr>\n",
       "    <tr>\n",
       "      <th>4</th>\n",
       "      <td>0.011332</td>\n",
       "      <td>0.933841</td>\n",
       "      <td>0.016448</td>\n",
       "    </tr>\n",
       "  </tbody>\n",
       "</table>\n",
       "</div>"
      ],
      "text/plain": [
       "   AC Output Currnt (A)  AC Output Voltage (V)  AC Output Power (W)\n",
       "0              0.008862               0.935183             0.014036\n",
       "1              0.011186               0.934288             0.016318\n",
       "2              0.011186               0.934288             0.016318\n",
       "3              0.011186               0.932947             0.016272\n",
       "4              0.011332               0.933841             0.016448"
      ]
     },
     "execution_count": 12,
     "metadata": {},
     "output_type": "execute_result"
    }
   ],
   "source": [
    "scaler = MinMaxScaler(feature_range=(0,1))\n",
    "dataset = scaler.fit_transform(ac_out_df)\n",
    "dataset_df = pd.DataFrame(dataset, columns = ['AC Output Currnt (A)', 'AC Output Voltage (V)', 'AC Output Power (W)'])\n",
    "dataset_df.head()"
   ]
  },
  {
   "cell_type": "code",
   "execution_count": 13,
   "id": "37f9e92f-8387-42f7-962e-0e228aee329a",
   "metadata": {},
   "outputs": [],
   "source": [
    "def df_to_X_y(df, window_size=5):\n",
    "    df_as_np = df.to_numpy()\n",
    "    X = []\n",
    "    y = []\n",
    "    for i in range(len(df_as_np)-window_size):\n",
    "        row  = [r for r in df_as_np[i:i+window_size]]\n",
    "        X.append(row)\n",
    "        label = [df_as_np[i+window_size][0], df_as_np[i+window_size][1],df_as_np[i+window_size][2]]\n",
    "        y.append(label)\n",
    "    return np.array(X), np.array(y)"
   ]
  },
  {
   "cell_type": "code",
   "execution_count": 14,
   "id": "b0b4f3e5-402b-4da3-b5bb-5c05b204bfee",
   "metadata": {},
   "outputs": [
    {
     "data": {
      "text/plain": [
       "((17189, 5, 3), (17189, 3))"
      ]
     },
     "execution_count": 14,
     "metadata": {},
     "output_type": "execute_result"
    }
   ],
   "source": [
    "X, y = df_to_X_y(dataset_df)\n",
    "X.shape, y.shape\n",
    "#X(features,window_size,inputs) y(features,outputs)\n",
    "#X(features,time_steps,samples)"
   ]
  },
  {
   "cell_type": "code",
   "execution_count": 15,
   "id": "176e18a9-1996-4684-a04b-199ed3465a67",
   "metadata": {},
   "outputs": [
    {
     "data": {
      "text/plain": [
       "((13000, 5, 3), (13000, 3), (2000, 5, 3), (2000, 3), (2189, 5, 3), (2189, 3))"
      ]
     },
     "execution_count": 15,
     "metadata": {},
     "output_type": "execute_result"
    }
   ],
   "source": [
    "X_train, y_train = X[:13000], y[:13000]\n",
    "X_val, y_val = X[13000:15000], y[13000:15000]\n",
    "X_test, y_test = X[15000:], y[15000:]\n",
    "X_train.shape, y_train.shape, X_val.shape, y_val.shape, X_test.shape, y_test.shape"
   ]
  },
  {
   "cell_type": "code",
   "execution_count": 16,
   "id": "3bf9858c-1c85-4e51-9f6d-878a3f035955",
   "metadata": {},
   "outputs": [
    {
     "name": "stdout",
     "output_type": "stream",
     "text": [
      "Model: \"sequential\"\n",
      "_________________________________________________________________\n",
      "Layer (type)                 Output Shape              Param #   \n",
      "=================================================================\n",
      "lstm (LSTM)                  (None, 5, 32)             4608      \n",
      "_________________________________________________________________\n",
      "lstm_1 (LSTM)                (None, 64)                24832     \n",
      "_________________________________________________________________\n",
      "dense (Dense)                (None, 8)                 520       \n",
      "_________________________________________________________________\n",
      "dense_1 (Dense)              (None, 3)                 27        \n",
      "=================================================================\n",
      "Total params: 29,987\n",
      "Trainable params: 29,987\n",
      "Non-trainable params: 0\n",
      "_________________________________________________________________\n"
     ]
    }
   ],
   "source": [
    "model1 = Sequential()\n",
    "model1.add(InputLayer((5, 3))) #input layer is (window size, ouput value)\n",
    "model1.add(LSTM(32, return_sequences=True))\n",
    "model1.add(LSTM(64))\n",
    "model1.add(Dense(8, 'relu'))\n",
    "model1.add(Dense(3, 'linear')) #last dense value is equal to output value\n",
    "model1.summary()"
   ]
  },
  {
   "cell_type": "code",
   "execution_count": 17,
   "id": "65a681db-2e0d-44a0-aa31-22516a1a8ed2",
   "metadata": {},
   "outputs": [],
   "source": [
    "cp1 = ModelCheckpoint('model1/', save_best_only=True)\n",
    "model1.compile(loss=MeanSquaredError(), optimizer=Adam(learning_rate=0.0001), metrics=[RootMeanSquaredError()])"
   ]
  },
  {
   "cell_type": "code",
   "execution_count": 18,
   "id": "1a661254-4df9-4ba1-a350-c3db7d06d4e4",
   "metadata": {
    "tags": []
   },
   "outputs": [
    {
     "name": "stdout",
     "output_type": "stream",
     "text": [
      "Epoch 1/20\n",
      "2598/2600 [============================>.] - ETA: 0s - loss: 0.0169 - root_mean_squared_error: 0.1302WARNING:tensorflow:From C:\\Users\\User\\anaconda3\\lib\\site-packages\\tensorflow\\python\\training\\tracking\\tracking.py:111: Model.state_updates (from tensorflow.python.keras.engine.training) is deprecated and will be removed in a future version.\n",
      "Instructions for updating:\n",
      "This property should not be used in TensorFlow 2.0, as updates are applied automatically.\n",
      "WARNING:tensorflow:From C:\\Users\\User\\anaconda3\\lib\\site-packages\\tensorflow\\python\\training\\tracking\\tracking.py:111: Layer.updates (from tensorflow.python.keras.engine.base_layer) is deprecated and will be removed in a future version.\n",
      "Instructions for updating:\n",
      "This property should not be used in TensorFlow 2.0, as updates are applied automatically.\n",
      "INFO:tensorflow:Assets written to: model1\\assets\n",
      "2600/2600 [==============================] - 37s 14ms/step - loss: 0.0169 - root_mean_squared_error: 0.1301 - val_loss: 5.7387e-05 - val_root_mean_squared_error: 0.0076\n",
      "Epoch 2/20\n",
      "2600/2600 [==============================] - 11s 4ms/step - loss: 4.6978e-04 - root_mean_squared_error: 0.0217 - val_loss: 2.4050e-04 - val_root_mean_squared_error: 0.0155\n",
      "Epoch 3/20\n",
      "2596/2600 [============================>.] - ETA: 0s - loss: 4.6462e-04 - root_mean_squared_error: 0.0216INFO:tensorflow:Assets written to: model1\\assets\n",
      "2600/2600 [==============================] - 34s 13ms/step - loss: 4.6393e-04 - root_mean_squared_error: 0.0215 - val_loss: 4.7174e-05 - val_root_mean_squared_error: 0.0069\n",
      "Epoch 4/20\n",
      "2600/2600 [==============================] - 10s 4ms/step - loss: 4.4511e-04 - root_mean_squared_error: 0.0211 - val_loss: 4.8267e-05 - val_root_mean_squared_error: 0.0069\n",
      "Epoch 5/20\n",
      "2600/2600 [==============================] - 10s 4ms/step - loss: 4.3188e-04 - root_mean_squared_error: 0.0208 - val_loss: 5.2516e-05 - val_root_mean_squared_error: 0.0072\n",
      "Epoch 6/20\n",
      "2600/2600 [==============================] - 10s 4ms/step - loss: 4.1960e-04 - root_mean_squared_error: 0.0205 - val_loss: 4.7322e-05 - val_root_mean_squared_error: 0.0069\n",
      "Epoch 7/20\n",
      "2592/2600 [============================>.] - ETA: 0s - loss: 4.0557e-04 - root_mean_squared_error: 0.0201INFO:tensorflow:Assets written to: model1\\assets\n",
      "2600/2600 [==============================] - 33s 13ms/step - loss: 4.0439e-04 - root_mean_squared_error: 0.0201 - val_loss: 4.6362e-05 - val_root_mean_squared_error: 0.0068\n",
      "Epoch 8/20\n",
      "2600/2600 [==============================] - 10s 4ms/step - loss: 3.9313e-04 - root_mean_squared_error: 0.0198 - val_loss: 5.2741e-05 - val_root_mean_squared_error: 0.0073\n",
      "Epoch 9/20\n",
      "2600/2600 [==============================] - 10s 4ms/step - loss: 3.7873e-04 - root_mean_squared_error: 0.0195 - val_loss: 4.7269e-05 - val_root_mean_squared_error: 0.0069\n",
      "Epoch 10/20\n",
      "2600/2600 [==============================] - ETA: 0s - loss: 3.6693e-04 - root_mean_squared_error: 0.0192INFO:tensorflow:Assets written to: model1\\assets\n",
      "2600/2600 [==============================] - 34s 13ms/step - loss: 3.6693e-04 - root_mean_squared_error: 0.0192 - val_loss: 4.5144e-05 - val_root_mean_squared_error: 0.0067\n",
      "Epoch 11/20\n",
      "2600/2600 [==============================] - 10s 4ms/step - loss: 3.4724e-04 - root_mean_squared_error: 0.0186 - val_loss: 5.0896e-05 - val_root_mean_squared_error: 0.0071\n",
      "Epoch 12/20\n",
      "2600/2600 [==============================] - 10s 4ms/step - loss: 3.3683e-04 - root_mean_squared_error: 0.0184 - val_loss: 4.5545e-05 - val_root_mean_squared_error: 0.0067\n",
      "Epoch 13/20\n",
      "2599/2600 [============================>.] - ETA: 0s - loss: 3.2429e-04 - root_mean_squared_error: 0.0180INFO:tensorflow:Assets written to: model1\\assets\n",
      "2600/2600 [==============================] - 34s 13ms/step - loss: 3.2417e-04 - root_mean_squared_error: 0.0180 - val_loss: 4.4588e-05 - val_root_mean_squared_error: 0.0067\n",
      "Epoch 14/20\n",
      "2600/2600 [==============================] - 10s 4ms/step - loss: 3.0363e-04 - root_mean_squared_error: 0.0174 - val_loss: 4.4897e-05 - val_root_mean_squared_error: 0.0067\n",
      "Epoch 15/20\n",
      "2600/2600 [==============================] - 10s 4ms/step - loss: 2.9126e-04 - root_mean_squared_error: 0.0171 - val_loss: 5.3228e-05 - val_root_mean_squared_error: 0.0073\n",
      "Epoch 16/20\n",
      "2600/2600 [==============================] - 11s 4ms/step - loss: 2.7627e-04 - root_mean_squared_error: 0.0166 - val_loss: 4.5486e-05 - val_root_mean_squared_error: 0.0067\n",
      "Epoch 17/20\n",
      "2600/2600 [==============================] - 11s 4ms/step - loss: 2.6717e-04 - root_mean_squared_error: 0.0163 - val_loss: 7.5252e-05 - val_root_mean_squared_error: 0.0087\n",
      "Epoch 18/20\n",
      "2600/2600 [==============================] - 11s 4ms/step - loss: 2.6559e-04 - root_mean_squared_error: 0.0163 - val_loss: 6.2378e-05 - val_root_mean_squared_error: 0.0079\n",
      "Epoch 19/20\n",
      "2594/2600 [============================>.] - ETA: 0s - loss: 2.5730e-04 - root_mean_squared_error: 0.0160INFO:tensorflow:Assets written to: model1\\assets\n",
      "2600/2600 [==============================] - 34s 13ms/step - loss: 2.5673e-04 - root_mean_squared_error: 0.0160 - val_loss: 4.3575e-05 - val_root_mean_squared_error: 0.0066\n",
      "Epoch 20/20\n",
      "2600/2600 [==============================] - 11s 4ms/step - loss: 2.5027e-04 - root_mean_squared_error: 0.0158 - val_loss: 5.1606e-05 - val_root_mean_squared_error: 0.0072\n"
     ]
    },
    {
     "data": {
      "text/plain": [
       "<tensorflow.python.keras.callbacks.History at 0x1daf6e06850>"
      ]
     },
     "execution_count": 18,
     "metadata": {},
     "output_type": "execute_result"
    }
   ],
   "source": [
    "model1.fit(X_train, y_train, validation_data=(X_val, y_val), epochs=20, batch_size = 5, callbacks=[cp1])"
   ]
  },
  {
   "cell_type": "code",
   "execution_count": 19,
   "id": "d1059ab9-97d3-44d4-bea7-1f0f3400f8f1",
   "metadata": {},
   "outputs": [],
   "source": [
    "predictions = model1.predict(X)"
   ]
  },
  {
   "cell_type": "code",
   "execution_count": 20,
   "id": "38aae238-0c19-49ec-bea9-6f2e4894a50b",
   "metadata": {},
   "outputs": [
    {
     "data": {
      "text/plain": [
       "(17189, 3)"
      ]
     },
     "execution_count": 20,
     "metadata": {},
     "output_type": "execute_result"
    }
   ],
   "source": [
    "predictions.shape"
   ]
  },
  {
   "cell_type": "code",
   "execution_count": 21,
   "id": "7c09d84b-7bc6-48aa-ad07-e8650c7b476a",
   "metadata": {},
   "outputs": [],
   "source": [
    "predictions_inv = scaler.inverse_transform(predictions)"
   ]
  },
  {
   "cell_type": "code",
   "execution_count": 22,
   "id": "4a9dd997-d95d-4509-bfca-c51091f3b770",
   "metadata": {},
   "outputs": [
    {
     "data": {
      "text/html": [
       "<div>\n",
       "<style scoped>\n",
       "    .dataframe tbody tr th:only-of-type {\n",
       "        vertical-align: middle;\n",
       "    }\n",
       "\n",
       "    .dataframe tbody tr th {\n",
       "        vertical-align: top;\n",
       "    }\n",
       "\n",
       "    .dataframe thead th {\n",
       "        text-align: right;\n",
       "    }\n",
       "</style>\n",
       "<table border=\"1\" class=\"dataframe\">\n",
       "  <thead>\n",
       "    <tr style=\"text-align: right;\">\n",
       "      <th></th>\n",
       "      <th>AC Output Current Predicted (A)</th>\n",
       "      <th>AC Output Voltage Predicted (V)</th>\n",
       "      <th>AC Output Power Predicted (W)</th>\n",
       "    </tr>\n",
       "  </thead>\n",
       "  <tbody>\n",
       "    <tr>\n",
       "      <th>0</th>\n",
       "      <td>3.717058</td>\n",
       "      <td>235.830933</td>\n",
       "      <td>873.682007</td>\n",
       "    </tr>\n",
       "    <tr>\n",
       "      <th>1</th>\n",
       "      <td>3.716848</td>\n",
       "      <td>235.827805</td>\n",
       "      <td>873.649658</td>\n",
       "    </tr>\n",
       "    <tr>\n",
       "      <th>2</th>\n",
       "      <td>3.716756</td>\n",
       "      <td>235.826874</td>\n",
       "      <td>873.623047</td>\n",
       "    </tr>\n",
       "    <tr>\n",
       "      <th>3</th>\n",
       "      <td>3.716868</td>\n",
       "      <td>235.826096</td>\n",
       "      <td>873.639343</td>\n",
       "    </tr>\n",
       "    <tr>\n",
       "      <th>4</th>\n",
       "      <td>3.716801</td>\n",
       "      <td>235.829086</td>\n",
       "      <td>873.647339</td>\n",
       "    </tr>\n",
       "    <tr>\n",
       "      <th>...</th>\n",
       "      <td>...</td>\n",
       "      <td>...</td>\n",
       "      <td>...</td>\n",
       "    </tr>\n",
       "    <tr>\n",
       "      <th>17184</th>\n",
       "      <td>3.863189</td>\n",
       "      <td>235.782654</td>\n",
       "      <td>908.859497</td>\n",
       "    </tr>\n",
       "    <tr>\n",
       "      <th>17185</th>\n",
       "      <td>3.864480</td>\n",
       "      <td>235.784668</td>\n",
       "      <td>909.068848</td>\n",
       "    </tr>\n",
       "    <tr>\n",
       "      <th>17186</th>\n",
       "      <td>3.866082</td>\n",
       "      <td>235.782700</td>\n",
       "      <td>909.397095</td>\n",
       "    </tr>\n",
       "    <tr>\n",
       "      <th>17187</th>\n",
       "      <td>3.868271</td>\n",
       "      <td>235.779327</td>\n",
       "      <td>909.867188</td>\n",
       "    </tr>\n",
       "    <tr>\n",
       "      <th>17188</th>\n",
       "      <td>3.866909</td>\n",
       "      <td>235.778244</td>\n",
       "      <td>909.660522</td>\n",
       "    </tr>\n",
       "  </tbody>\n",
       "</table>\n",
       "<p>17189 rows × 3 columns</p>\n",
       "</div>"
      ],
      "text/plain": [
       "       AC Output Current Predicted (A)  AC Output Voltage Predicted (V)  \\\n",
       "0                             3.717058                       235.830933   \n",
       "1                             3.716848                       235.827805   \n",
       "2                             3.716756                       235.826874   \n",
       "3                             3.716868                       235.826096   \n",
       "4                             3.716801                       235.829086   \n",
       "...                                ...                              ...   \n",
       "17184                         3.863189                       235.782654   \n",
       "17185                         3.864480                       235.784668   \n",
       "17186                         3.866082                       235.782700   \n",
       "17187                         3.868271                       235.779327   \n",
       "17188                         3.866909                       235.778244   \n",
       "\n",
       "       AC Output Power Predicted (W)  \n",
       "0                         873.682007  \n",
       "1                         873.649658  \n",
       "2                         873.623047  \n",
       "3                         873.639343  \n",
       "4                         873.647339  \n",
       "...                              ...  \n",
       "17184                     908.859497  \n",
       "17185                     909.068848  \n",
       "17186                     909.397095  \n",
       "17187                     909.867188  \n",
       "17188                     909.660522  \n",
       "\n",
       "[17189 rows x 3 columns]"
      ]
     },
     "execution_count": 22,
     "metadata": {},
     "output_type": "execute_result"
    }
   ],
   "source": [
    "predictions_df = pd.DataFrame(predictions_inv, columns = ['AC Output Current Predicted (A)', 'AC Output Voltage Predicted (V)', 'AC Output Power Predicted (W)'])\n",
    "predictions_df"
   ]
  },
  {
   "cell_type": "code",
   "execution_count": 23,
   "id": "1181836d-cb82-4beb-8e24-f5d358174b61",
   "metadata": {},
   "outputs": [],
   "source": [
    "predictions_df.index = pd.to_datetime(df['time'][0:17189])"
   ]
  },
  {
   "cell_type": "code",
   "execution_count": 26,
   "id": "a85b73a1-c4e0-4b7d-8a53-b2a3ea66740d",
   "metadata": {},
   "outputs": [
    {
     "data": {
      "text/plain": [
       "[<matplotlib.lines.Line2D at 0x1da8ef96b20>]"
      ]
     },
     "execution_count": 26,
     "metadata": {},
     "output_type": "execute_result"
    },
    {
     "data": {
      "image/png": "[encoded data removed]",
      "text/plain": [
       "<Figure size 432x288 with 1 Axes>"
      ]
     },
     "metadata": {
      "needs_background": "light"
     },
     "output_type": "display_data"
    }
   ],
   "source": [
    "plt.plot(df['ac_output_current'])\n",
    "plt.plot(predictions_df['AC Output Current Predicted (A)'])\n"
   ]
  },
  {
   "cell_type": "code",
   "execution_count": 43,
   "id": "a17fc867-0139-44ef-b44a-54102b6250aa",
   "metadata": {},
   "outputs": [
    {
     "data": {
      "text/plain": [
       "[<matplotlib.lines.Line2D at 0x1da841abf10>]"
      ]
     },
     "execution_count": 43,
     "metadata": {},
     "output_type": "execute_result"
    },
    {
     "data": {
      "image/png": "[encoded data removed]",
      "text/plain": [
       "<Figure size 432x288 with 1 Axes>"
      ]
     },
     "metadata": {
      "needs_background": "light"
     },
     "output_type": "display_data"
    }
   ],
   "source": [
    "start,end = 0, 17000\n",
    "plt.plot(df['ac_output_voltage'][start:end])\n",
    "plt.plot(predictions_df['AC Output Voltage Predicted (V)'][start:end])"
   ]
  },
  {
   "cell_type": "code",
   "execution_count": 45,
   "id": "5c7042df-00aa-4672-b57e-ab9c5fa7868d",
   "metadata": {},
   "outputs": [
    {
     "data": {
      "text/plain": [
       "Text(0.5, 1.0, \"AC Output Power's Forecast samples, (0-17000)\")"
      ]
     },
     "execution_count": 45,
     "metadata": {},
     "output_type": "execute_result"
    },
    {
     "data": {
      "image/png": "[encoded data removed]",
      "text/plain": [
       "<Figure size 432x288 with 1 Axes>"
      ]
     },
     "metadata": {
      "needs_background": "light"
     },
     "output_type": "display_data"
    }
   ],
   "source": [
    "plt.plot(ac_out_df['AC Output Power (W)'])\n",
    "plt.plot(predictions_df['AC Output Power Predicted (W)'])\n",
    "plt.ylabel('AC Output Power (W)')\n",
    "plt.xlabel('Time')\n",
    "plt.title(\"AC Output Power's Forecast samples, (0-17000)\")"
   ]
  },
  {
   "cell_type": "code",
   "execution_count": 44,
   "id": "24fe119e-5b44-420b-abdb-2f41873f2377",
   "metadata": {},
   "outputs": [
    {
     "data": {
      "text/plain": [
       "Text(0.5, 1.0, \"AC Output Power's Forecast samples, scaled 0-500\")"
      ]
     },
     "execution_count": 44,
     "metadata": {},
     "output_type": "execute_result"
    },
    {
     "data": {
      "image/png": "[encoded data removed]",
      "text/plain": [
       "<Figure size 432x288 with 1 Axes>"
      ]
     },
     "metadata": {
      "needs_background": "light"
     },
     "output_type": "display_data"
    }
   ],
   "source": [
    "start, end = 0,500\n",
    "plt.plot(ac_out_df['AC Output Power (W)'][start:end])\n",
    "plt.plot(predictions_df['AC Output Power Predicted (W)'][start:end])\n",
    "plt.ylabel('AC Output Power (W)')\n",
    "plt.xlabel('Time')\n",
    "plt.title(\"AC Output Power's Forecast samples, scaled 0-500\")"
   ]
  },
  {
   "cell_type": "code",
   "execution_count": 31,
   "id": "5e61970d-0121-4e9e-84a2-9420469c20f6",
   "metadata": {},
   "outputs": [
    {
     "data": {
      "text/html": [
       "<div>\n",
       "<style scoped>\n",
       "    .dataframe tbody tr th:only-of-type {\n",
       "        vertical-align: middle;\n",
       "    }\n",
       "\n",
       "    .dataframe tbody tr th {\n",
       "        vertical-align: top;\n",
       "    }\n",
       "\n",
       "    .dataframe thead th {\n",
       "        text-align: right;\n",
       "    }\n",
       "</style>\n",
       "<table border=\"1\" class=\"dataframe\">\n",
       "  <thead>\n",
       "    <tr style=\"text-align: right;\">\n",
       "      <th></th>\n",
       "      <th>AC Output Current Predicted (A)</th>\n",
       "      <th>AC Output Voltage Predicted (V)</th>\n",
       "      <th>AC Output Power Predicted (W)</th>\n",
       "    </tr>\n",
       "    <tr>\n",
       "      <th>time</th>\n",
       "      <th></th>\n",
       "      <th></th>\n",
       "      <th></th>\n",
       "    </tr>\n",
       "  </thead>\n",
       "  <tbody>\n",
       "    <tr>\n",
       "      <th>2022-01-25 00:00:00</th>\n",
       "      <td>3.717058</td>\n",
       "      <td>235.830933</td>\n",
       "      <td>873.682007</td>\n",
       "    </tr>\n",
       "    <tr>\n",
       "      <th>2022-01-25 00:00:01</th>\n",
       "      <td>3.716848</td>\n",
       "      <td>235.827805</td>\n",
       "      <td>873.649658</td>\n",
       "    </tr>\n",
       "    <tr>\n",
       "      <th>2022-01-25 00:00:02</th>\n",
       "      <td>3.716756</td>\n",
       "      <td>235.826874</td>\n",
       "      <td>873.623047</td>\n",
       "    </tr>\n",
       "    <tr>\n",
       "      <th>2022-01-25 00:00:03</th>\n",
       "      <td>3.716868</td>\n",
       "      <td>235.826096</td>\n",
       "      <td>873.639343</td>\n",
       "    </tr>\n",
       "    <tr>\n",
       "      <th>2022-01-25 00:00:04</th>\n",
       "      <td>3.716801</td>\n",
       "      <td>235.829086</td>\n",
       "      <td>873.647339</td>\n",
       "    </tr>\n",
       "    <tr>\n",
       "      <th>...</th>\n",
       "      <td>...</td>\n",
       "      <td>...</td>\n",
       "      <td>...</td>\n",
       "    </tr>\n",
       "    <tr>\n",
       "      <th>2022-01-25 04:46:24</th>\n",
       "      <td>3.863189</td>\n",
       "      <td>235.782654</td>\n",
       "      <td>908.859497</td>\n",
       "    </tr>\n",
       "    <tr>\n",
       "      <th>2022-01-25 04:46:25</th>\n",
       "      <td>3.864480</td>\n",
       "      <td>235.784668</td>\n",
       "      <td>909.068848</td>\n",
       "    </tr>\n",
       "    <tr>\n",
       "      <th>2022-01-25 04:46:26</th>\n",
       "      <td>3.866082</td>\n",
       "      <td>235.782700</td>\n",
       "      <td>909.397095</td>\n",
       "    </tr>\n",
       "    <tr>\n",
       "      <th>2022-01-25 04:46:27</th>\n",
       "      <td>3.868271</td>\n",
       "      <td>235.779327</td>\n",
       "      <td>909.867188</td>\n",
       "    </tr>\n",
       "    <tr>\n",
       "      <th>2022-01-25 04:46:28</th>\n",
       "      <td>3.866909</td>\n",
       "      <td>235.778244</td>\n",
       "      <td>909.660522</td>\n",
       "    </tr>\n",
       "  </tbody>\n",
       "</table>\n",
       "<p>17189 rows × 3 columns</p>\n",
       "</div>"
      ],
      "text/plain": [
       "                     AC Output Current Predicted (A)  \\\n",
       "time                                                   \n",
       "2022-01-25 00:00:00                         3.717058   \n",
       "2022-01-25 00:00:01                         3.716848   \n",
       "2022-01-25 00:00:02                         3.716756   \n",
       "2022-01-25 00:00:03                         3.716868   \n",
       "2022-01-25 00:00:04                         3.716801   \n",
       "...                                              ...   \n",
       "2022-01-25 04:46:24                         3.863189   \n",
       "2022-01-25 04:46:25                         3.864480   \n",
       "2022-01-25 04:46:26                         3.866082   \n",
       "2022-01-25 04:46:27                         3.868271   \n",
       "2022-01-25 04:46:28                         3.866909   \n",
       "\n",
       "                     AC Output Voltage Predicted (V)  \\\n",
       "time                                                   \n",
       "2022-01-25 00:00:00                       235.830933   \n",
       "2022-01-25 00:00:01                       235.827805   \n",
       "2022-01-25 00:00:02                       235.826874   \n",
       "2022-01-25 00:00:03                       235.826096   \n",
       "2022-01-25 00:00:04                       235.829086   \n",
       "...                                              ...   \n",
       "2022-01-25 04:46:24                       235.782654   \n",
       "2022-01-25 04:46:25                       235.784668   \n",
       "2022-01-25 04:46:26                       235.782700   \n",
       "2022-01-25 04:46:27                       235.779327   \n",
       "2022-01-25 04:46:28                       235.778244   \n",
       "\n",
       "                     AC Output Power Predicted (W)  \n",
       "time                                                \n",
       "2022-01-25 00:00:00                     873.682007  \n",
       "2022-01-25 00:00:01                     873.649658  \n",
       "2022-01-25 00:00:02                     873.623047  \n",
       "2022-01-25 00:00:03                     873.639343  \n",
       "2022-01-25 00:00:04                     873.647339  \n",
       "...                                            ...  \n",
       "2022-01-25 04:46:24                     908.859497  \n",
       "2022-01-25 04:46:25                     909.068848  \n",
       "2022-01-25 04:46:26                     909.397095  \n",
       "2022-01-25 04:46:27                     909.867188  \n",
       "2022-01-25 04:46:28                     909.660522  \n",
       "\n",
       "[17189 rows x 3 columns]"
      ]
     },
     "execution_count": 31,
     "metadata": {},
     "output_type": "execute_result"
    }
   ],
   "source": [
    "predictions_df"
   ]
  },
  {
   "cell_type": "code",
   "execution_count": 32,
   "id": "ea6c092b-48c9-4ede-ad2c-85a3de950336",
   "metadata": {},
   "outputs": [
    {
     "data": {
      "text/html": [
       "<div>\n",
       "<style scoped>\n",
       "    .dataframe tbody tr th:only-of-type {\n",
       "        vertical-align: middle;\n",
       "    }\n",
       "\n",
       "    .dataframe tbody tr th {\n",
       "        vertical-align: top;\n",
       "    }\n",
       "\n",
       "    .dataframe thead th {\n",
       "        text-align: right;\n",
       "    }\n",
       "</style>\n",
       "<table border=\"1\" class=\"dataframe\">\n",
       "  <thead>\n",
       "    <tr style=\"text-align: right;\">\n",
       "      <th></th>\n",
       "      <th>AC Output Current (A)</th>\n",
       "      <th>AC Output Voltage (V)</th>\n",
       "      <th>AC Output Power (W)</th>\n",
       "    </tr>\n",
       "    <tr>\n",
       "      <th>time</th>\n",
       "      <th></th>\n",
       "      <th></th>\n",
       "      <th></th>\n",
       "    </tr>\n",
       "  </thead>\n",
       "  <tbody>\n",
       "    <tr>\n",
       "      <th>2022-01-25 00:00:00</th>\n",
       "      <td>3.697929</td>\n",
       "      <td>235.819992</td>\n",
       "      <td>872.045587</td>\n",
       "    </tr>\n",
       "    <tr>\n",
       "      <th>2022-01-25 00:00:01</th>\n",
       "      <td>3.708610</td>\n",
       "      <td>235.810974</td>\n",
       "      <td>874.530936</td>\n",
       "    </tr>\n",
       "    <tr>\n",
       "      <th>2022-01-25 00:00:02</th>\n",
       "      <td>3.708610</td>\n",
       "      <td>235.810974</td>\n",
       "      <td>874.530936</td>\n",
       "    </tr>\n",
       "    <tr>\n",
       "      <th>2022-01-25 00:00:03</th>\n",
       "      <td>3.708610</td>\n",
       "      <td>235.797455</td>\n",
       "      <td>874.480800</td>\n",
       "    </tr>\n",
       "    <tr>\n",
       "      <th>2022-01-25 00:00:04</th>\n",
       "      <td>3.709278</td>\n",
       "      <td>235.806473</td>\n",
       "      <td>874.671763</td>\n",
       "    </tr>\n",
       "    <tr>\n",
       "      <th>...</th>\n",
       "      <td>...</td>\n",
       "      <td>...</td>\n",
       "      <td>...</td>\n",
       "    </tr>\n",
       "    <tr>\n",
       "      <th>2022-01-25 04:46:29</th>\n",
       "      <td>3.862488</td>\n",
       "      <td>235.747894</td>\n",
       "      <td>910.573412</td>\n",
       "    </tr>\n",
       "    <tr>\n",
       "      <th>2022-01-25 04:46:30</th>\n",
       "      <td>3.863823</td>\n",
       "      <td>235.747894</td>\n",
       "      <td>910.888135</td>\n",
       "    </tr>\n",
       "    <tr>\n",
       "      <th>2022-01-25 04:46:31</th>\n",
       "      <td>3.865825</td>\n",
       "      <td>235.734375</td>\n",
       "      <td>911.307840</td>\n",
       "    </tr>\n",
       "    <tr>\n",
       "      <th>2022-01-25 04:46:32</th>\n",
       "      <td>3.861487</td>\n",
       "      <td>235.734375</td>\n",
       "      <td>910.285225</td>\n",
       "    </tr>\n",
       "    <tr>\n",
       "      <th>2022-01-25 04:46:33</th>\n",
       "      <td>3.859484</td>\n",
       "      <td>235.743393</td>\n",
       "      <td>909.847853</td>\n",
       "    </tr>\n",
       "  </tbody>\n",
       "</table>\n",
       "<p>17194 rows × 3 columns</p>\n",
       "</div>"
      ],
      "text/plain": [
       "                     AC Output Current (A)  AC Output Voltage (V)  \\\n",
       "time                                                                \n",
       "2022-01-25 00:00:00               3.697929             235.819992   \n",
       "2022-01-25 00:00:01               3.708610             235.810974   \n",
       "2022-01-25 00:00:02               3.708610             235.810974   \n",
       "2022-01-25 00:00:03               3.708610             235.797455   \n",
       "2022-01-25 00:00:04               3.709278             235.806473   \n",
       "...                                    ...                    ...   \n",
       "2022-01-25 04:46:29               3.862488             235.747894   \n",
       "2022-01-25 04:46:30               3.863823             235.747894   \n",
       "2022-01-25 04:46:31               3.865825             235.734375   \n",
       "2022-01-25 04:46:32               3.861487             235.734375   \n",
       "2022-01-25 04:46:33               3.859484             235.743393   \n",
       "\n",
       "                     AC Output Power (W)  \n",
       "time                                      \n",
       "2022-01-25 00:00:00           872.045587  \n",
       "2022-01-25 00:00:01           874.530936  \n",
       "2022-01-25 00:00:02           874.530936  \n",
       "2022-01-25 00:00:03           874.480800  \n",
       "2022-01-25 00:00:04           874.671763  \n",
       "...                                  ...  \n",
       "2022-01-25 04:46:29           910.573412  \n",
       "2022-01-25 04:46:30           910.888135  \n",
       "2022-01-25 04:46:31           911.307840  \n",
       "2022-01-25 04:46:32           910.285225  \n",
       "2022-01-25 04:46:33           909.847853  \n",
       "\n",
       "[17194 rows x 3 columns]"
      ]
     },
     "execution_count": 32,
     "metadata": {},
     "output_type": "execute_result"
    }
   ],
   "source": [
    "ac_out_df"
   ]
  },
  {
   "cell_type": "code",
   "execution_count": 35,
   "id": "57c7b625-680d-4d16-8e8e-c8be92be1d3a",
   "metadata": {},
   "outputs": [
    {
     "data": {
      "text/html": [
       "<div>\n",
       "<style scoped>\n",
       "    .dataframe tbody tr th:only-of-type {\n",
       "        vertical-align: middle;\n",
       "    }\n",
       "\n",
       "    .dataframe tbody tr th {\n",
       "        vertical-align: top;\n",
       "    }\n",
       "\n",
       "    .dataframe thead th {\n",
       "        text-align: right;\n",
       "    }\n",
       "</style>\n",
       "<table border=\"1\" class=\"dataframe\">\n",
       "  <thead>\n",
       "    <tr style=\"text-align: right;\">\n",
       "      <th></th>\n",
       "      <th>AC Output Current Predicted (A)</th>\n",
       "      <th>AC Output Voltage Predicted (V)</th>\n",
       "      <th>AC Output Power Predicted (W)</th>\n",
       "    </tr>\n",
       "    <tr>\n",
       "      <th>time</th>\n",
       "      <th></th>\n",
       "      <th></th>\n",
       "      <th></th>\n",
       "    </tr>\n",
       "  </thead>\n",
       "  <tbody>\n",
       "    <tr>\n",
       "      <th>2022-01-25 00:00:00</th>\n",
       "      <td>3.717058</td>\n",
       "      <td>235.830933</td>\n",
       "      <td>873.682007</td>\n",
       "    </tr>\n",
       "    <tr>\n",
       "      <th>2022-01-25 00:00:01</th>\n",
       "      <td>3.716848</td>\n",
       "      <td>235.827805</td>\n",
       "      <td>873.649658</td>\n",
       "    </tr>\n",
       "    <tr>\n",
       "      <th>2022-01-25 00:00:02</th>\n",
       "      <td>3.716756</td>\n",
       "      <td>235.826874</td>\n",
       "      <td>873.623047</td>\n",
       "    </tr>\n",
       "    <tr>\n",
       "      <th>2022-01-25 00:00:03</th>\n",
       "      <td>3.716868</td>\n",
       "      <td>235.826096</td>\n",
       "      <td>873.639343</td>\n",
       "    </tr>\n",
       "    <tr>\n",
       "      <th>2022-01-25 00:00:04</th>\n",
       "      <td>3.716801</td>\n",
       "      <td>235.829086</td>\n",
       "      <td>873.647339</td>\n",
       "    </tr>\n",
       "    <tr>\n",
       "      <th>...</th>\n",
       "      <td>...</td>\n",
       "      <td>...</td>\n",
       "      <td>...</td>\n",
       "    </tr>\n",
       "    <tr>\n",
       "      <th>2022-01-25 04:46:24</th>\n",
       "      <td>3.863189</td>\n",
       "      <td>235.782654</td>\n",
       "      <td>908.859497</td>\n",
       "    </tr>\n",
       "    <tr>\n",
       "      <th>2022-01-25 04:46:25</th>\n",
       "      <td>3.864480</td>\n",
       "      <td>235.784668</td>\n",
       "      <td>909.068848</td>\n",
       "    </tr>\n",
       "    <tr>\n",
       "      <th>2022-01-25 04:46:26</th>\n",
       "      <td>3.866082</td>\n",
       "      <td>235.782700</td>\n",
       "      <td>909.397095</td>\n",
       "    </tr>\n",
       "    <tr>\n",
       "      <th>2022-01-25 04:46:27</th>\n",
       "      <td>3.868271</td>\n",
       "      <td>235.779327</td>\n",
       "      <td>909.867188</td>\n",
       "    </tr>\n",
       "    <tr>\n",
       "      <th>2022-01-25 04:46:28</th>\n",
       "      <td>3.866909</td>\n",
       "      <td>235.778244</td>\n",
       "      <td>909.660522</td>\n",
       "    </tr>\n",
       "  </tbody>\n",
       "</table>\n",
       "<p>17189 rows × 3 columns</p>\n",
       "</div>"
      ],
      "text/plain": [
       "                     AC Output Current Predicted (A)  \\\n",
       "time                                                   \n",
       "2022-01-25 00:00:00                         3.717058   \n",
       "2022-01-25 00:00:01                         3.716848   \n",
       "2022-01-25 00:00:02                         3.716756   \n",
       "2022-01-25 00:00:03                         3.716868   \n",
       "2022-01-25 00:00:04                         3.716801   \n",
       "...                                              ...   \n",
       "2022-01-25 04:46:24                         3.863189   \n",
       "2022-01-25 04:46:25                         3.864480   \n",
       "2022-01-25 04:46:26                         3.866082   \n",
       "2022-01-25 04:46:27                         3.868271   \n",
       "2022-01-25 04:46:28                         3.866909   \n",
       "\n",
       "                     AC Output Voltage Predicted (V)  \\\n",
       "time                                                   \n",
       "2022-01-25 00:00:00                       235.830933   \n",
       "2022-01-25 00:00:01                       235.827805   \n",
       "2022-01-25 00:00:02                       235.826874   \n",
       "2022-01-25 00:00:03                       235.826096   \n",
       "2022-01-25 00:00:04                       235.829086   \n",
       "...                                              ...   \n",
       "2022-01-25 04:46:24                       235.782654   \n",
       "2022-01-25 04:46:25                       235.784668   \n",
       "2022-01-25 04:46:26                       235.782700   \n",
       "2022-01-25 04:46:27                       235.779327   \n",
       "2022-01-25 04:46:28                       235.778244   \n",
       "\n",
       "                     AC Output Power Predicted (W)  \n",
       "time                                                \n",
       "2022-01-25 00:00:00                     873.682007  \n",
       "2022-01-25 00:00:01                     873.649658  \n",
       "2022-01-25 00:00:02                     873.623047  \n",
       "2022-01-25 00:00:03                     873.639343  \n",
       "2022-01-25 00:00:04                     873.647339  \n",
       "...                                            ...  \n",
       "2022-01-25 04:46:24                     908.859497  \n",
       "2022-01-25 04:46:25                     909.068848  \n",
       "2022-01-25 04:46:26                     909.397095  \n",
       "2022-01-25 04:46:27                     909.867188  \n",
       "2022-01-25 04:46:28                     909.660522  \n",
       "\n",
       "[17189 rows x 3 columns]"
      ]
     },
     "execution_count": 35,
     "metadata": {},
     "output_type": "execute_result"
    }
   ],
   "source": [
    "predictions_df"
   ]
  },
  {
   "cell_type": "code",
   "execution_count": null,
   "id": "388ffab7-f4ea-4b48-8aa1-b98086963b14",
   "metadata": {},
   "outputs": [],
   "source": []
  },
  {
   "cell_type": "code",
   "execution_count": null,
   "id": "344aeeda-644c-44b8-8d0a-f1577f17c9f5",
   "metadata": {},
   "outputs": [],
   "source": []
  },
  {
   "cell_type": "code",
   "execution_count": null,
   "id": "fff29b1d-e103-4b9b-8371-b110f773234e",
   "metadata": {},
   "outputs": [],
   "source": []
  },
  {
   "cell_type": "code",
   "execution_count": null,
   "id": "5845aeb9-1e3d-49cf-a73d-721784392ddb",
   "metadata": {},
   "outputs": [],
   "source": []
  },
  {
   "cell_type": "code",
   "execution_count": null,
   "id": "8a24b31b-7412-4830-9ce7-d87aca0303c6",
   "metadata": {},
   "outputs": [],
   "source": []
  },
  {
   "cell_type": "code",
   "execution_count": null,
   "id": "22c96c0a-8d7c-46c1-9ed4-374ee8dfce8d",
   "metadata": {},
   "outputs": [],
   "source": []
  }
 ],
 "metadata": {
  "kernelspec": {
   "display_name": "Python 3",
   "language": "python",
   "name": "python3"
  },
  "language_info": {
   "codemirror_mode": {
    "name": "ipython",
    "version": 3
   },
   "file_extension": ".py",
   "mimetype": "text/x-python",
   "name": "python",
   "nbconvert_exporter": "python",
   "pygments_lexer": "ipython3",
   "version": "3.8.8"
  }
 },
 "nbformat": 4,
 "nbformat_minor": 5
}
